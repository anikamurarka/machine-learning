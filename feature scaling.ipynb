{
 "cells": [
  {
   "cell_type": "code",
   "execution_count": 1,
   "id": "91b91dfd",
   "metadata": {},
   "outputs": [],
   "source": [
    "import numpy as np\n",
    "from sklearn import preprocessing\n",
    "X = np.array([[1,2,-1],[2,0,0],[0,1,-1]])\n",
    "X_scaled = preprocessing.scale(X)"
   ]
  },
  {
   "cell_type": "code",
   "execution_count": 2,
   "id": "279dd944",
   "metadata": {},
   "outputs": [
    {
     "data": {
      "text/plain": [
       "array([[ 0.        ,  1.22474487, -0.70710678],\n",
       "       [ 1.22474487, -1.22474487,  1.41421356],\n",
       "       [-1.22474487,  0.        , -0.70710678]])"
      ]
     },
     "execution_count": 2,
     "metadata": {},
     "output_type": "execute_result"
    }
   ],
   "source": [
    "X_scaled"
   ]
  },
  {
   "cell_type": "code",
   "execution_count": 3,
   "id": "85c68e81",
   "metadata": {},
   "outputs": [
    {
     "data": {
      "text/plain": [
       "-1.2335811384723961e-17"
      ]
     },
     "execution_count": 3,
     "metadata": {},
     "output_type": "execute_result"
    }
   ],
   "source": [
    "X_scaled.mean()"
   ]
  },
  {
   "cell_type": "code",
   "execution_count": 10,
   "id": "4a4422fc",
   "metadata": {},
   "outputs": [
    {
     "data": {
      "text/plain": [
       "0.0"
      ]
     },
     "execution_count": 10,
     "metadata": {},
     "output_type": "execute_result"
    }
   ],
   "source": [
    "# we can use these parameters to scale x_test as well\n",
    "scaler = preprocessing.StandardScaler()\n",
    "data1 = [[0,3],[9,4],[2,7],[1,1]]\n",
    "scaler.fit(data1)\n",
    "scaler.transform(data1).sum()"
   ]
  },
  {
   "cell_type": "code",
   "execution_count": 11,
   "id": "e3b8595c",
   "metadata": {},
   "outputs": [
    {
     "data": {
      "text/plain": [
       "0.0"
      ]
     },
     "execution_count": 11,
     "metadata": {},
     "output_type": "execute_result"
    }
   ],
   "source": [
    "data2=[[2,13],[1,4],[10,7],[1,9]]\n",
    "scaler.fit(data2)\n",
    "scaler.transform(data2).sum()"
   ]
  },
  {
   "cell_type": "code",
   "execution_count": null,
   "id": "3315e657",
   "metadata": {},
   "outputs": [],
   "source": []
  }
 ],
 "metadata": {
  "kernelspec": {
   "display_name": "Python 3 (ipykernel)",
   "language": "python",
   "name": "python3"
  },
  "language_info": {
   "codemirror_mode": {
    "name": "ipython",
    "version": 3
   },
   "file_extension": ".py",
   "mimetype": "text/x-python",
   "name": "python",
   "nbconvert_exporter": "python",
   "pygments_lexer": "ipython3",
   "version": "3.9.7"
  }
 },
 "nbformat": 4,
 "nbformat_minor": 5
}
