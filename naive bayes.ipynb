{
 "cells": [
  {
   "cell_type": "code",
   "execution_count": 230,
   "id": "b44aa4f9",
   "metadata": {},
   "outputs": [
    {
     "data": {
      "text/plain": [
       "30"
      ]
     },
     "execution_count": 230,
     "metadata": {},
     "output_type": "execute_result"
    }
   ],
   "source": [
    "import numpy as np\n",
    "from sklearn import datasets\n",
    "cancer_data = datasets.load_breast_cancer()\n",
    "cancer_data.data.shape[1]"
   ]
  },
  {
   "cell_type": "code",
   "execution_count": 231,
   "id": "f1e2c46a",
   "metadata": {},
   "outputs": [],
   "source": [
    "def fit(X_train,Y_train):\n",
    "    result = {}\n",
    "    class_values = set(Y_train)\n",
    "    for current_class in class_values:\n",
    "        result[current_class]={}\n",
    "        result[\"total_data\"] = len(Y_train)\n",
    "        current_class_rows = (Y_train == current_class)\n",
    "        X_train_current = X_train[current_class_rows]\n",
    "        Y_train_current = Y_train[current_class_rows]\n",
    "        result[current_class][\"total_count\"]= len(Y_train_current)\n",
    "        num_features = X_train.shape[1]\n",
    "        for j in range(1,num_features+1):\n",
    "            j_1 = j-1\n",
    "            result[current_class][j] = {}\n",
    "            all_possible_values = set(X_train[:,j_1])\n",
    "            for current_values in all_possible_values:\n",
    "#                 print((X_train[:,j_1] == current_values).sum())\n",
    "                result[current_class][j][current_values]= (X_train[:,j_1] == current_values).sum()\n",
    "    return result"
   ]
  },
  {
   "cell_type": "code",
   "execution_count": 232,
   "id": "498e3872",
   "metadata": {},
   "outputs": [],
   "source": [
    "def probablity(dictionary, x, current_class):\n",
    "    output = np.log(dictionary[current_class][\"total_count\"]) - np.log(dictionary[\"total_data\"])\n",
    "    num_features = len(dictionary[current_class].keys())-1\n",
    "    for j in range(1, num_features+1):\n",
    "        xj = x[j-1]\n",
    "        count_current_class_with_value_xj = dictionary[current_class][j][xj] + 1\n",
    "        count_current_class = dictionary[current_class][\"total_count\"] + len(dictionary[current_class][j].keys())\n",
    "        current_xj_probabiity = np.log(count_current_class_with_value_xj) - np.log(count_current_class)\n",
    "        output = output + current_xj_probabiity\n",
    "#     print(output)\n",
    "    return output"
   ]
  },
  {
   "cell_type": "code",
   "execution_count": 233,
   "id": "39ea1dc3",
   "metadata": {},
   "outputs": [],
   "source": [
    "def predictSinglePoint(dictionary, x):\n",
    "    classes = dictionary.keys()\n",
    "    best_p = -1000\n",
    "    best_class = -1\n",
    "    first_run = True\n",
    "    for current_class in classes:\n",
    "        if current_class == \"total_data\":\n",
    "            continue\n",
    "        p_current_class = probablity(dictionary, x, current_class)\n",
    "        if(first_run or  p_current_class > best_p):\n",
    "            best_p = p_current_class\n",
    "            best_class = current_class\n",
    "        first_run = False\n",
    "#     print(best_class)\n",
    "    return best_class"
   ]
  },
  {
   "cell_type": "code",
   "execution_count": 234,
   "id": "6ab5e006",
   "metadata": {},
   "outputs": [],
   "source": [
    "def predict(result, X_test):\n",
    "    y_pred = []\n",
    "    for x in X_test:\n",
    "#         print(x)\n",
    "        x_class = predictSinglePoint(result,x)\n",
    "        y_pred.append(x_class)\n",
    "    return y_pred"
   ]
  },
  {
   "cell_type": "code",
   "execution_count": 235,
   "id": "e378ee59",
   "metadata": {},
   "outputs": [],
   "source": [
    "def makeLabelled(column):\n",
    "    second_limit = column.mean()\n",
    "    first_limit = second_limit * 0.5\n",
    "    third_limit = second_limit * 1.5\n",
    "    for i in range(len(column)):\n",
    "        if column[i]<first_limit:\n",
    "            column[i] = 0\n",
    "        elif column[i] > first_limit and column[i]<second_limit:\n",
    "            column[i] = 1\n",
    "        elif column[i] > second_limit and column[i]<third_limit:\n",
    "            column[i] = 2\n",
    "        else:\n",
    "            column[i] = 3\n",
    "    return column"
   ]
  },
  {
   "cell_type": "code",
   "execution_count": 236,
   "id": "88fdecb9",
   "metadata": {},
   "outputs": [],
   "source": [
    "from sklearn import datasets\n",
    "iris = datasets.load_iris()\n",
    "X = iris.data\n",
    "Y = iris.target\n"
   ]
  },
  {
   "cell_type": "code",
   "execution_count": 237,
   "id": "ba2d8318",
   "metadata": {},
   "outputs": [
    {
     "name": "stdout",
     "output_type": "stream",
     "text": [
      "[[1. 2. 0. 0.]\n",
      " [1. 1. 0. 0.]\n",
      " [1. 2. 0. 0.]\n",
      " [1. 2. 0. 0.]\n",
      " [1. 2. 0. 0.]\n",
      " [1. 2. 0. 0.]\n",
      " [1. 2. 0. 0.]\n",
      " [1. 2. 0. 0.]\n",
      " [1. 1. 0. 0.]\n",
      " [1. 2. 0. 0.]\n",
      " [1. 2. 0. 0.]\n",
      " [1. 2. 0. 0.]\n",
      " [1. 1. 0. 0.]\n",
      " [1. 1. 0. 0.]\n",
      " [1. 2. 0. 0.]\n",
      " [1. 2. 0. 0.]\n",
      " [1. 2. 0. 0.]\n",
      " [1. 2. 0. 0.]\n",
      " [1. 2. 0. 0.]\n",
      " [1. 2. 0. 0.]\n",
      " [1. 2. 0. 0.]\n",
      " [1. 2. 0. 0.]\n",
      " [1. 2. 0. 0.]\n",
      " [1. 2. 0. 0.]\n",
      " [1. 2. 1. 0.]\n",
      " [1. 1. 0. 0.]\n",
      " [1. 2. 0. 0.]\n",
      " [1. 2. 0. 0.]\n",
      " [1. 2. 0. 0.]\n",
      " [1. 2. 0. 0.]\n",
      " [1. 2. 0. 0.]\n",
      " [1. 2. 0. 0.]\n",
      " [1. 2. 0. 0.]\n",
      " [1. 2. 0. 0.]\n",
      " [1. 2. 0. 0.]\n",
      " [1. 2. 0. 0.]\n",
      " [1. 2. 0. 0.]\n",
      " [1. 2. 0. 0.]\n",
      " [1. 1. 0. 0.]\n",
      " [1. 2. 0. 0.]\n",
      " [1. 2. 0. 0.]\n",
      " [1. 1. 0. 0.]\n",
      " [1. 2. 0. 0.]\n",
      " [1. 2. 0. 1.]\n",
      " [1. 2. 1. 0.]\n",
      " [1. 1. 0. 0.]\n",
      " [1. 2. 0. 0.]\n",
      " [1. 2. 0. 0.]\n",
      " [1. 2. 0. 0.]\n",
      " [1. 2. 0. 0.]\n",
      " [2. 2. 2. 2.]\n",
      " [2. 2. 2. 2.]\n",
      " [2. 2. 2. 2.]\n",
      " [1. 1. 2. 2.]\n",
      " [2. 1. 2. 2.]\n",
      " [1. 1. 2. 2.]\n",
      " [2. 2. 2. 2.]\n",
      " [1. 1. 1. 1.]\n",
      " [2. 1. 2. 2.]\n",
      " [1. 1. 2. 2.]\n",
      " [1. 1. 1. 1.]\n",
      " [2. 1. 2. 2.]\n",
      " [2. 1. 2. 1.]\n",
      " [2. 1. 2. 2.]\n",
      " [1. 1. 1. 2.]\n",
      " [2. 2. 2. 2.]\n",
      " [1. 1. 2. 2.]\n",
      " [1. 1. 2. 1.]\n",
      " [2. 1. 2. 2.]\n",
      " [1. 1. 2. 1.]\n",
      " [2. 2. 2. 3.]\n",
      " [2. 1. 2. 2.]\n",
      " [2. 1. 2. 2.]\n",
      " [2. 1. 2. 2.]\n",
      " [2. 1. 2. 2.]\n",
      " [2. 1. 2. 2.]\n",
      " [2. 1. 2. 2.]\n",
      " [2. 1. 2. 2.]\n",
      " [2. 1. 2. 2.]\n",
      " [1. 1. 1. 1.]\n",
      " [1. 1. 2. 1.]\n",
      " [1. 1. 1. 1.]\n",
      " [1. 1. 2. 2.]\n",
      " [2. 1. 2. 2.]\n",
      " [1. 1. 2. 2.]\n",
      " [2. 2. 2. 2.]\n",
      " [2. 2. 2. 2.]\n",
      " [2. 1. 2. 2.]\n",
      " [1. 1. 2. 2.]\n",
      " [1. 1. 2. 2.]\n",
      " [1. 1. 2. 2.]\n",
      " [2. 1. 2. 2.]\n",
      " [1. 1. 2. 2.]\n",
      " [1. 1. 1. 1.]\n",
      " [1. 1. 2. 2.]\n",
      " [1. 1. 2. 2.]\n",
      " [1. 1. 2. 2.]\n",
      " [2. 1. 2. 2.]\n",
      " [1. 1. 1. 1.]\n",
      " [1. 1. 2. 2.]\n",
      " [2. 2. 3. 3.]\n",
      " [1. 1. 2. 3.]\n",
      " [2. 1. 3. 3.]\n",
      " [2. 1. 2. 3.]\n",
      " [2. 1. 3. 3.]\n",
      " [2. 1. 3. 3.]\n",
      " [1. 1. 2. 2.]\n",
      " [2. 1. 3. 3.]\n",
      " [2. 1. 3. 3.]\n",
      " [2. 2. 3. 3.]\n",
      " [2. 2. 2. 3.]\n",
      " [2. 1. 2. 3.]\n",
      " [2. 1. 2. 3.]\n",
      " [1. 1. 2. 3.]\n",
      " [1. 1. 2. 3.]\n",
      " [2. 2. 2. 3.]\n",
      " [2. 1. 2. 3.]\n",
      " [2. 2. 3. 3.]\n",
      " [2. 1. 3. 3.]\n",
      " [2. 1. 2. 2.]\n",
      " [2. 2. 3. 3.]\n",
      " [1. 1. 2. 3.]\n",
      " [2. 1. 3. 3.]\n",
      " [2. 1. 2. 3.]\n",
      " [2. 2. 3. 3.]\n",
      " [2. 2. 3. 3.]\n",
      " [2. 1. 2. 3.]\n",
      " [2. 1. 2. 3.]\n",
      " [2. 1. 2. 3.]\n",
      " [2. 1. 3. 2.]\n",
      " [2. 1. 3. 3.]\n",
      " [2. 2. 3. 3.]\n",
      " [2. 1. 2. 3.]\n",
      " [2. 1. 2. 2.]\n",
      " [2. 1. 2. 2.]\n",
      " [2. 1. 3. 3.]\n",
      " [2. 2. 2. 3.]\n",
      " [2. 2. 2. 3.]\n",
      " [2. 1. 2. 3.]\n",
      " [2. 2. 2. 3.]\n",
      " [2. 2. 2. 3.]\n",
      " [2. 2. 2. 3.]\n",
      " [1. 1. 2. 3.]\n",
      " [2. 2. 3. 3.]\n",
      " [2. 2. 3. 3.]\n",
      " [2. 1. 2. 3.]\n",
      " [2. 1. 2. 3.]\n",
      " [2. 1. 2. 3.]\n",
      " [2. 2. 2. 3.]\n",
      " [2. 1. 2. 3.]]\n"
     ]
    }
   ],
   "source": [
    "for i in range(X.shape[-1]):\n",
    "    X[:,i] = makeLabelled(X[:,i])\n",
    "print(X)"
   ]
  },
  {
   "cell_type": "code",
   "execution_count": 238,
   "id": "4daa392a",
   "metadata": {},
   "outputs": [],
   "source": [
    "from sklearn import model_selection\n",
    "X_train,X_test,Y_train,Y_test = model_selection.train_test_split(X,Y, test_size =0.25,random_state=0)"
   ]
  },
  {
   "cell_type": "code",
   "execution_count": 239,
   "id": "3d50f08a",
   "metadata": {},
   "outputs": [],
   "source": [
    "dictionary = fit(X_train,Y_train)"
   ]
  },
  {
   "cell_type": "code",
   "execution_count": 240,
   "id": "ccbf617c",
   "metadata": {},
   "outputs": [
    {
     "data": {
      "text/plain": [
       "[1,\n",
       " 1,\n",
       " 1,\n",
       " 1,\n",
       " 1,\n",
       " 1,\n",
       " 1,\n",
       " 1,\n",
       " 1,\n",
       " 1,\n",
       " 1,\n",
       " 1,\n",
       " 1,\n",
       " 1,\n",
       " 1,\n",
       " 1,\n",
       " 1,\n",
       " 1,\n",
       " 1,\n",
       " 1,\n",
       " 1,\n",
       " 1,\n",
       " 1,\n",
       " 1,\n",
       " 1,\n",
       " 1,\n",
       " 1,\n",
       " 1,\n",
       " 1,\n",
       " 1,\n",
       " 1,\n",
       " 1,\n",
       " 1,\n",
       " 1,\n",
       " 1,\n",
       " 1,\n",
       " 1,\n",
       " 1]"
      ]
     },
     "execution_count": 240,
     "metadata": {},
     "output_type": "execute_result"
    }
   ],
   "source": [
    "Y_pred = predict(dictionary,X_test)\n",
    "Y_pred"
   ]
  },
  {
   "cell_type": "code",
   "execution_count": 241,
   "id": "09a65d73",
   "metadata": {},
   "outputs": [
    {
     "name": "stdout",
     "output_type": "stream",
     "text": [
      "              precision    recall  f1-score   support\n",
      "\n",
      "           0       0.00      0.00      0.00        13\n",
      "           1       0.42      1.00      0.59        16\n",
      "           2       0.00      0.00      0.00         9\n",
      "\n",
      "    accuracy                           0.42        38\n",
      "   macro avg       0.14      0.33      0.20        38\n",
      "weighted avg       0.18      0.42      0.25        38\n",
      "\n",
      "[[ 0 13  0]\n",
      " [ 0 16  0]\n",
      " [ 0  9  0]]\n"
     ]
    },
    {
     "name": "stderr",
     "output_type": "stream",
     "text": [
      "/Users/apple/opt/anaconda3/lib/python3.9/site-packages/sklearn/metrics/_classification.py:1248: UndefinedMetricWarning: Precision and F-score are ill-defined and being set to 0.0 in labels with no predicted samples. Use `zero_division` parameter to control this behavior.\n",
      "  _warn_prf(average, modifier, msg_start, len(result))\n",
      "/Users/apple/opt/anaconda3/lib/python3.9/site-packages/sklearn/metrics/_classification.py:1248: UndefinedMetricWarning: Precision and F-score are ill-defined and being set to 0.0 in labels with no predicted samples. Use `zero_division` parameter to control this behavior.\n",
      "  _warn_prf(average, modifier, msg_start, len(result))\n",
      "/Users/apple/opt/anaconda3/lib/python3.9/site-packages/sklearn/metrics/_classification.py:1248: UndefinedMetricWarning: Precision and F-score are ill-defined and being set to 0.0 in labels with no predicted samples. Use `zero_division` parameter to control this behavior.\n",
      "  _warn_prf(average, modifier, msg_start, len(result))\n"
     ]
    }
   ],
   "source": [
    "from sklearn.metrics import classification_report, confusion_matrix\n",
    "print(classification_report(Y_test,Y_pred))\n",
    "print(confusion_matrix(Y_test,Y_pred))"
   ]
  },
  {
   "cell_type": "code",
   "execution_count": 242,
   "id": "53bbf294",
   "metadata": {},
   "outputs": [
    {
     "data": {
      "text/plain": [
       "array([1, 1, 0, 2, 0, 2, 0, 1, 1, 1, 1, 1, 1, 1, 1, 0, 1, 1, 0, 0, 1, 1,\n",
       "       1, 0, 2, 0, 1, 1, 1, 0, 2, 1, 0, 2, 2, 1, 0, 1])"
      ]
     },
     "execution_count": 242,
     "metadata": {},
     "output_type": "execute_result"
    }
   ],
   "source": [
    "# from sklearn import datasets\n",
    "# iris = datasets.load_iris()\n",
    "# X = iris.data\n",
    "# Y = iris.target\n",
    "# from sklearn import model_selection\n",
    "# X_train,X_test,Y_train,Y_test = model_selection.train_test_split(X,Y, test_size =0.25,random_state=0)\n",
    "from sklearn.naive_bayes import GaussianNB\n",
    "clf = GaussianNB()\n",
    "clf.fit(X_train,Y_train)\n",
    "y_pred = clf.predict(X_test)\n",
    "y_pred"
   ]
  },
  {
   "cell_type": "code",
   "execution_count": 243,
   "id": "0d1c5087",
   "metadata": {},
   "outputs": [
    {
     "name": "stdout",
     "output_type": "stream",
     "text": [
      "              precision    recall  f1-score   support\n",
      "\n",
      "           0       1.00      0.85      0.92        13\n",
      "           1       0.76      1.00      0.86        16\n",
      "           2       1.00      0.67      0.80         9\n",
      "\n",
      "    accuracy                           0.87        38\n",
      "   macro avg       0.92      0.84      0.86        38\n",
      "weighted avg       0.90      0.87      0.87        38\n",
      "\n",
      "[[11  2  0]\n",
      " [ 0 16  0]\n",
      " [ 0  3  6]]\n"
     ]
    }
   ],
   "source": [
    "from sklearn.metrics import classification_report, confusion_matrix\n",
    "print(classification_report(Y_test,y_pred))\n",
    "print(confusion_matrix(Y_test,y_pred))"
   ]
  },
  {
   "cell_type": "code",
   "execution_count": null,
   "id": "3e8c461e",
   "metadata": {},
   "outputs": [],
   "source": []
  },
  {
   "cell_type": "code",
   "execution_count": null,
   "id": "ae123de2",
   "metadata": {},
   "outputs": [],
   "source": []
  },
  {
   "cell_type": "code",
   "execution_count": null,
   "id": "a022bf81",
   "metadata": {},
   "outputs": [],
   "source": []
  }
 ],
 "metadata": {
  "kernelspec": {
   "display_name": "Python 3 (ipykernel)",
   "language": "python",
   "name": "python3"
  },
  "language_info": {
   "codemirror_mode": {
    "name": "ipython",
    "version": 3
   },
   "file_extension": ".py",
   "mimetype": "text/x-python",
   "name": "python",
   "nbconvert_exporter": "python",
   "pygments_lexer": "ipython3",
   "version": "3.9.7"
  }
 },
 "nbformat": 4,
 "nbformat_minor": 5
}
