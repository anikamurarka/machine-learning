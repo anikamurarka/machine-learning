{
 "cells": [
  {
   "cell_type": "code",
   "execution_count": 2,
   "id": "75e8d32a",
   "metadata": {},
   "outputs": [],
   "source": [
    "import numpy as np\n",
    "data_test = np.loadtxt(\"0000000000002329_test_diabetes_x_test.csv\",delimiter=\",\")\n",
    "x_test = data[:,0]\n",
    "y_test = data [:,1]"
   ]
  },
  {
   "cell_type": "code",
   "execution_count": 16,
   "id": "f4f9d74a",
   "metadata": {},
   "outputs": [
    {
     "data": {
      "text/plain": [
       "array([ 0.05068012, -0.04464164,  0.05068012,  0.05068012, -0.04464164,\n",
       "       -0.04464164,  0.05068012,  0.05068012, -0.04464164, -0.04464164,\n",
       "        0.05068012,  0.05068012, -0.04464164, -0.04464164, -0.04464164,\n",
       "       -0.04464164, -0.04464164, -0.04464164, -0.04464164,  0.05068012,\n",
       "       -0.04464164, -0.04464164, -0.04464164, -0.04464164,  0.05068012,\n",
       "        0.05068012, -0.04464164, -0.04464164,  0.05068012, -0.04464164,\n",
       "        0.05068012,  0.05068012, -0.04464164,  0.05068012, -0.04464164,\n",
       "       -0.04464164, -0.04464164, -0.04464164,  0.05068012,  0.05068012,\n",
       "       -0.04464164,  0.05068012, -0.04464164,  0.05068012,  0.05068012,\n",
       "       -0.04464164,  0.05068012,  0.05068012,  0.05068012, -0.04464164,\n",
       "       -0.04464164,  0.05068012,  0.05068012,  0.05068012,  0.05068012,\n",
       "       -0.04464164, -0.04464164, -0.04464164,  0.05068012, -0.04464164,\n",
       "       -0.04464164,  0.05068012, -0.04464164,  0.05068012,  0.05068012,\n",
       "       -0.04464164, -0.04464164,  0.05068012,  0.05068012, -0.04464164,\n",
       "       -0.04464164,  0.05068012,  0.05068012, -0.04464164,  0.05068012,\n",
       "        0.05068012,  0.05068012, -0.04464164, -0.04464164, -0.04464164,\n",
       "       -0.04464164,  0.05068012, -0.04464164,  0.05068012, -0.04464164,\n",
       "        0.05068012,  0.05068012, -0.04464164, -0.04464164,  0.05068012,\n",
       "       -0.04464164,  0.05068012, -0.04464164, -0.04464164, -0.04464164,\n",
       "        0.05068012,  0.05068012,  0.05068012,  0.05068012,  0.05068012,\n",
       "        0.05068012, -0.04464164, -0.04464164,  0.05068012, -0.04464164,\n",
       "        0.05068012,  0.05068012, -0.04464164, -0.04464164, -0.04464164,\n",
       "        0.05068012])"
      ]
     },
     "execution_count": 16,
     "metadata": {},
     "output_type": "execute_result"
    }
   ],
   "source": [
    "data_train = np.loadtxt(\"0000000000002329_training_diabetes_x_y_train.csv\",delimiter=\",\")\n",
    "x_train = data[:,0]\n",
    "y_train = data[:,1]\n",
    "y_train"
   ]
  },
  {
   "cell_type": "code",
   "execution_count": 17,
   "id": "b35c68a5",
   "metadata": {},
   "outputs": [],
   "source": [
    "def fit (x_train,y_train):\n",
    "    xy_mean = (x_train*y_train).mean()\n",
    "    x_mean = x_train.mean()\n",
    "    y_mean = y_train.mean()\n",
    "    x2_mean = (x_train**2).mean()\n",
    "    m = (xy_mean - (x_mean * y_mean))/(x2_mean -x_mean )\n",
    "    c = y_mean - m*x_mean\n",
    "    return m,c"
   ]
  },
  {
   "cell_type": "code",
   "execution_count": 19,
   "id": "1a29592f",
   "metadata": {},
   "outputs": [],
   "source": [
    "m,c = fit(x_train,y_train)"
   ]
  },
  {
   "cell_type": "code",
   "execution_count": 23,
   "id": "d57a584c",
   "metadata": {},
   "outputs": [],
   "source": [
    "def predict(x,m,c):\n",
    "    return m*x + c"
   ]
  },
  {
   "cell_type": "code",
   "execution_count": 24,
   "id": "e73d8be0",
   "metadata": {},
   "outputs": [],
   "source": [
    "y_pred = predict(x_test,m,c)"
   ]
  },
  {
   "cell_type": "code",
   "execution_count": 28,
   "id": "e39ed0ab",
   "metadata": {},
   "outputs": [],
   "source": [
    "def score(y_pred,y_test):\n",
    "    u = ((y_test-y_pred)**2).sum()\n",
    "    v = ((y_test-(y_test).mean())**2).sum()\n",
    "    return 1 - (u/v)"
   ]
  },
  {
   "cell_type": "code",
   "execution_count": 27,
   "id": "409276d2",
   "metadata": {},
   "outputs": [
    {
     "data": {
      "text/plain": [
       "0.0"
      ]
     },
     "execution_count": 27,
     "metadata": {},
     "output_type": "execute_result"
    }
   ],
   "source": [
    "score(y_pred,y_test)"
   ]
  },
  {
   "cell_type": "code",
   "execution_count": null,
   "id": "f20300b4",
   "metadata": {},
   "outputs": [],
   "source": []
  }
 ],
 "metadata": {
  "kernelspec": {
   "display_name": "Python 3 (ipykernel)",
   "language": "python",
   "name": "python3"
  },
  "language_info": {
   "codemirror_mode": {
    "name": "ipython",
    "version": 3
   },
   "file_extension": ".py",
   "mimetype": "text/x-python",
   "name": "python",
   "nbconvert_exporter": "python",
   "pygments_lexer": "ipython3",
   "version": "3.9.7"
  }
 },
 "nbformat": 4,
 "nbformat_minor": 5
}
