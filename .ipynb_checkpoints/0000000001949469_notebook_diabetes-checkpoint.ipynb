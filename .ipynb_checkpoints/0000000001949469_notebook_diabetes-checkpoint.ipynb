{
 "cells": [
  {
   "cell_type": "code",
   "execution_count": 24,
   "metadata": {},
   "outputs": [],
   "source": [
    "import pandas as pd\n",
    "from sklearn import model_selection\n",
    "diab=pd.read_csv(\"/home/anikamurarka/Downloads/0000000000002329_training_diabetes_x_y_train.csv\")\n",
    "df=diab.copy()\n",
    "df\n",
    "import numpy as np\n",
    "data=np.loadtxt(\"/home/anikamurarka/Downloads/0000000000002329_training_diabetes_x_y_train.csv\",delimiter=\",\")\n",
    "data.shape\n",
    "x=data[:,0:10]\n",
    "y=data[:,10]\n",
    "x.shape\n",
    "X_train,X_test,Y_train,Y_test=model_selection.train_test_split(x,y)\n"
   ]
  },
  {
   "cell_type": "code",
   "execution_count": 32,
   "metadata": {},
   "outputs": [],
   "source": [
    "from sklearn.linear_model import LinearRegression \n",
    "alg1=LinearRegression()\n",
    "alg1.fit(X_train,Y_train)\n",
    "Y_pred=alg1.predict(X_test)"
   ]
  },
  {
   "cell_type": "code",
   "execution_count": 48,
   "metadata": {},
   "outputs": [],
   "source": [
    "score_test=alg1.score(X_test,Y_test)\n",
    "score_test\n",
    "diadata=np.loadtxt(\"/home/anikamurarka/Downloads/0000000000002329_test_diabetes_x_test.csv\",delimiter=\",\")\n",
    "y_test=alg1.predict(diadata)\n",
    "np.savetxt('test.csv',y_test)"
   ]
  }
 ],
 "metadata": {
  "kernelspec": {
   "display_name": "Python 3 (ipykernel)",
   "language": "python",
   "name": "python3"
  },
  "language_info": {
   "codemirror_mode": {
    "name": "ipython",
    "version": 3
   },
   "file_extension": ".py",
   "mimetype": "text/x-python",
   "name": "python",
   "nbconvert_exporter": "python",
   "pygments_lexer": "ipython3",
   "version": "3.9.7"
  }
 },
 "nbformat": 4,
 "nbformat_minor": 2
}
