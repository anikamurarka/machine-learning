{
 "cells": [
  {
   "cell_type": "code",
   "execution_count": 8,
   "id": "aa341eb2",
   "metadata": {},
   "outputs": [],
   "source": [
    "from sklearn import datasets\n",
    "diabetes = datasets.load_diabetes()\n",
    "# extracting one column\n",
    "x = diabetes.data[:,[0]] \n",
    "y = diabetes.target\n",
    "\n"
   ]
  },
  {
   "cell_type": "code",
   "execution_count": 52,
   "id": "17be30eb",
   "metadata": {},
   "outputs": [
    {
     "data": {
      "text/plain": [
       "(111, 1)"
      ]
     },
     "execution_count": 52,
     "metadata": {},
     "output_type": "execute_result"
    }
   ],
   "source": [
    "from sklearn import model_selection\n",
    "X_train, X_test, Y_train, Y_test = model_selection.train_test_split(x,y)\n",
    "X_test.shape"
   ]
  },
  {
   "cell_type": "code",
   "execution_count": 53,
   "id": "0ded2533",
   "metadata": {},
   "outputs": [],
   "source": [
    "xy_mean = (X_train*Y_train).mean()\n",
    "x_mean = X_train.mean()\n",
    "y_mean = Y_train.mean()\n",
    "x2_mean = (X_train**2).mean()\n",
    "m = (xy_mean - (x_mean * y_mean))/(x2_mean -x_mean )\n",
    "c = y_mean - m*x_mean"
   ]
  },
  {
   "cell_type": "code",
   "execution_count": 62,
   "id": "52785ba3",
   "metadata": {},
   "outputs": [
    {
     "data": {
      "text/plain": [
       "(111,)"
      ]
     },
     "execution_count": 62,
     "metadata": {},
     "output_type": "execute_result"
    }
   ],
   "source": [
    "y_pred = np.empty([111,])\n",
    "for i in range(0,X_test.shape[1]):\n",
    "    y_pred[i] = m*X_test[i] + c \n",
    "\n",
    "X_test\n",
    "Y_test.shape\n",
    "y_pred.shape"
   ]
  },
  {
   "cell_type": "code",
   "execution_count": 63,
   "id": "72fca861",
   "metadata": {},
   "outputs": [
    {
     "data": {
      "image/png": "[encoded data removed]",
      "text/plain": [
       "<Figure size 432x288 with 1 Axes>"
      ]
     },
     "metadata": {
      "needs_background": "light"
     },
     "output_type": "display_data"
    }
   ],
   "source": [
    "import matplotlib.pyplot as plt\n",
    "import numpy as np\n",
    "plt.scatter(Y_test,y_pred)\n",
    "a = np.array((0,50,200,350))\n",
    "b =a\n",
    "plt.plot(a,b)\n",
    "# plt.axis([30,350,30,350])\n",
    "plt.show()"
   ]
  },
  {
   "cell_type": "code",
   "execution_count": 57,
   "id": "622f9b7c",
   "metadata": {},
   "outputs": [
    {
     "data": {
      "text/plain": [
       "4.3493881225335336e-14"
      ]
     },
     "execution_count": 57,
     "metadata": {},
     "output_type": "execute_result"
    }
   ],
   "source": [
    "m"
   ]
  },
  {
   "cell_type": "code",
   "execution_count": 58,
   "id": "7ca55bbe",
   "metadata": {},
   "outputs": [
    {
     "data": {
      "text/plain": [
       "154.81570996978851"
      ]
     },
     "execution_count": 58,
     "metadata": {},
     "output_type": "execute_result"
    }
   ],
   "source": [
    "c"
   ]
  }
 ],
 "metadata": {
  "kernelspec": {
   "display_name": "Python 3 (ipykernel)",
   "language": "python",
   "name": "python3"
  },
  "language_info": {
   "codemirror_mode": {
    "name": "ipython",
    "version": 3
   },
   "file_extension": ".py",
   "mimetype": "text/x-python",
   "name": "python",
   "nbconvert_exporter": "python",
   "pygments_lexer": "ipython3",
   "version": "3.9.7"
  }
 },
 "nbformat": 4,
 "nbformat_minor": 5
}
