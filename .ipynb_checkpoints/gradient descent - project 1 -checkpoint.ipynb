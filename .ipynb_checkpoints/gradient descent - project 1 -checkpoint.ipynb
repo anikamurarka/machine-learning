{
 "cells": [
  {
   "cell_type": "code",
   "execution_count": 236,
   "id": "efd46560",
   "metadata": {},
   "outputs": [],
   "source": [
    "def step(data,L_R,m):\n",
    "    M = data.shape[0]\n",
    "#     print(\"M\",M)\n",
    "    num_feat = data.shape[1]-1\n",
    "    \n",
    "#     print(\"num_feat\",num_feat)\n",
    "    slope_m = np.zeros((data.shape[1]-1,),int)\n",
    "    \n",
    "    for k in range(num_feat):\n",
    "        for i in range(M):\n",
    "            y = data[i][num_feat]\n",
    "#             print(\"y\",y)\n",
    "            inner_calc = 0\n",
    "            for j in range(num_feat):\n",
    "                x = data[i][j]\n",
    "#                 print(\"x\",x)\n",
    "                inner_calc += m[j]*x\n",
    "#             print(y,inner_calc,data[i][k],M)\n",
    "            slope_m[k] += -((y - inner_calc)*data[i][k]*2)\n",
    "#             print(\"slope\",slope_m)\n",
    "    new_m = m - L_R*slope_m\n",
    "    return new_m"
   ]
  },
  {
   "cell_type": "code",
   "execution_count": 237,
   "id": "bd2c2e93",
   "metadata": {},
   "outputs": [],
   "source": [
    "def gd2(data,L_R,no_of_iterations):\n",
    "    m = np.zeros((data.shape[1]-1,),int)\n",
    "#     print(data.shape)\n",
    "#     print(m.shape)\n",
    "    iterations = no_of_iterations\n",
    "    while no_of_iterations>0:\n",
    "        m = step(data,L_R,m)\n",
    "        no_of_iterations -= 1\n",
    "    return m"
   ]
  },
  {
   "cell_type": "code",
   "execution_count": 238,
   "id": "6863cdb8",
   "metadata": {},
   "outputs": [],
   "source": [
    "import matplotlib.pyplot as plt\n",
    "import numpy as np\n",
    "import pandas as pd\n",
    "def run() :\n",
    "    data_train = np.loadtxt(\"gd_training_boston_x_y_train.csv\",delimiter=',')\n",
    "    data_test = np.loadtxt(\"gd_test_boston_x_test.csv\",delimiter=',')\n",
    "#     print(data_train.shape)\n",
    "#     print(data_test.shape)\n",
    "#     print(pd.DataFrame(data_train))\n",
    "    x_test = data_test\n",
    "    b = np.ones((data_test.shape[0],1),dtype = int)\n",
    "#     print(b)\n",
    "#     print(x_test.shape)\n",
    "    x_test = np.append(x_test,b,axis=1)\n",
    "    b = np.ones((data_train.shape[0],),dtype = int)\n",
    "    data_train = np.insert(data_train,data_train.shape[1]-1,b,axis=1)\n",
    "#     print(x_test.shape)\n",
    "    L_R = 0.01\n",
    "    no_of_iterations = 10\n",
    "    m = gd2(data_train,L_R,no_of_iterations)\n",
    "    ypred = m*x_test\n",
    "#     print(m)\n",
    "    np.savetxt('yPred_gd_1.csv',ypred)"
   ]
  },
  {
   "cell_type": "code",
   "execution_count": 239,
   "id": "f0e97383",
   "metadata": {},
   "outputs": [],
   "source": [
    "run()"
   ]
  },
  {
   "cell_type": "code",
   "execution_count": null,
   "id": "b478d34e",
   "metadata": {},
   "outputs": [],
   "source": []
  }
 ],
 "metadata": {
  "kernelspec": {
   "display_name": "Python 3 (ipykernel)",
   "language": "python",
   "name": "python3"
  },
  "language_info": {
   "codemirror_mode": {
    "name": "ipython",
    "version": 3
   },
   "file_extension": ".py",
   "mimetype": "text/x-python",
   "name": "python",
   "nbconvert_exporter": "python",
   "pygments_lexer": "ipython3",
   "version": "3.9.7"
  }
 },
 "nbformat": 4,
 "nbformat_minor": 5
}
