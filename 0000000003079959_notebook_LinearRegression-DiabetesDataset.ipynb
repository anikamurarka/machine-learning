{
 "cells": [
  {
   "cell_type": "code",
   "execution_count": 2,
   "metadata": {},
   "outputs": [],
   "source": [
    "from sklearn.linear_model import LinearRegression\n",
    "import numpy as np\n",
    "\n",
    "source = open(\"training_diabetes_x_y_train.csv\")\n",
    "training_data = np.genfromtxt(source, dtype=None, delimiter=\",\", skip_header=1)\n",
    "x_train = training_data[:,0:10]\n",
    "y_train = training_data[:, 10]\n",
    "algo1 = LinearRegression()\n",
    "algo1.fit(x_train, y_train)\n",
    "source = open(\"test_diabetes_x_test.csv\")\n",
    "x_test = np.genfromtxt(source, dtype=None, delimiter=\",\", skip_header=0)\n",
    "y_predicted = algo1.predict(x_test)\n",
    "for i in range(len(y_predicted)):\n",
    "    y_predicted[i] = float(\"{0:.5f}\".format(y_predicted[i]))\n",
    "np.savetxt(\"test_diabetes_y_test.csv\", y_predicted, delimiter=\",\")"
   ]
  }
 ],
 "metadata": {
  "kernelspec": {
   "display_name": "Python 3",
   "language": "python",
   "name": "python3"
  },
  "language_info": {
   "codemirror_mode": {
    "name": "ipython",
    "version": 3
   },
   "file_extension": ".py",
   "mimetype": "text/x-python",
   "name": "python",
   "nbconvert_exporter": "python",
   "pygments_lexer": "ipython3",
   "version": "3.6.5"
  }
 },
 "nbformat": 4,
 "nbformat_minor": 2
}
