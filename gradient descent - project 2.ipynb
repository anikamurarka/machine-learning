{
 "cells": [
  {
   "cell_type": "code",
   "execution_count": 65,
   "id": "68133207",
   "metadata": {},
   "outputs": [],
   "source": [
    "def cost(m, data):\n",
    "    M = data.shape[0]\n",
    "#     X = data[]\n",
    "    num_feat = data.shape[1]-1\n",
    "    cst=0\n",
    "    for i in range(M):\n",
    "        cst+=(1/M)*((data[i][num_feat]-sum(m*data[:,:num_feat][i]))**2)\n",
    "#     print(\"cost\",cst)"
   ]
  },
  {
   "cell_type": "code",
   "execution_count": 66,
   "id": "ac96ccee",
   "metadata": {},
   "outputs": [],
   "source": [
    "def step(data,L_R,m):\n",
    "    M = data.shape[0]\n",
    "#     print(\"M\",M)\n",
    "    num_feat = data.shape[1]-1\n",
    "#     print(\"num_feat\",num_feat)\n",
    "    slope_m = np.zeros((data.shape[1]-1,),int)\n",
    "    for k in range(num_feat):\n",
    "        for i in range(M):\n",
    "            y = data[i][num_feat]\n",
    "#             print(\"y\",y)\n",
    "            inner_calc = 0\n",
    "            for j in range(num_feat):\n",
    "                x = data[i][j]\n",
    "#                 print(\"x\",x)\n",
    "                inner_calc += m[j]*x\n",
    "#             print(y,inner_calc,data[i][k],M)\n",
    "            slope_m[k] += -((y - inner_calc)*data[i][k]*2)/M\n",
    "#             print(\"slope\",slope_m)\n",
    "    new_m = m - L_R*slope_m\n",
    "    cost(m,data)\n",
    "    return new_m"
   ]
  },
  {
   "cell_type": "code",
   "execution_count": 67,
   "id": "e0f4aa8b",
   "metadata": {},
   "outputs": [],
   "source": [
    "def gd2(data,L_R,no_of_iterations):\n",
    "    m = np.zeros((data.shape[1]-1,),int)\n",
    "#     print(data.shape)\n",
    "#     print(m.shape)\n",
    "    iterations = no_of_iterations\n",
    "    while no_of_iterations>0:\n",
    "        m = step(data,L_R,m)\n",
    "        no_of_iterations -= 1\n",
    "    return m"
   ]
  },
  {
   "cell_type": "code",
   "execution_count": 68,
   "id": "70caf784",
   "metadata": {},
   "outputs": [],
   "source": [
    "import matplotlib.pyplot as plt\n",
    "import numpy as np\n",
    "import pandas as pd\n",
    "def run() :\n",
    "    data_train = np.loadtxt(\"gd2_training_ccpp_x_y_train.csv\",delimiter=',')\n",
    "    data_test = np.loadtxt(\"gd2_test_ccpp_x_test.csv\",delimiter=',')\n",
    "    print(data_train)\n",
    "    print(data_test.shape)\n",
    "#     print(pd.DataFrame(data_train))\n",
    "    x_test = data_test\n",
    "    b = np.ones((data_test.shape[0],1),dtype = int)\n",
    "#     print(b)\n",
    "#     print(x_test.shape)\n",
    "    x_test = np.append(x_test,b,axis=1)\n",
    "    b = np.ones((data_train.shape[0],),dtype = int)\n",
    "    data_train = np.insert(data_train,data_train.shape[1]-1,b,axis=1)\n",
    "#     print(x_test.shape)\n",
    "    L_R = 0.0000001\n",
    "    no_of_iterations = 1000\n",
    "    m = gd2(data_train,L_R,no_of_iterations)\n",
    "    print(m.shape)\n",
    "    ypred = x_test.dot(m)\n",
    "    np.set_printoptions(formatter={'float_kind':'{:f}'.format})\n",
    "#     print(ypred.shape)\n",
    "    print(ypred)\n",
    "    np.savetxt('yPred_gd_2.csv',ypred)"
   ]
  },
  {
   "cell_type": "code",
   "execution_count": 69,
   "id": "4b8d761b",
   "metadata": {},
   "outputs": [
    {
     "name": "stdout",
     "output_type": "stream",
     "text": [
      "[[8.580000 38.380000 1021.030000 84.370000 482.260000]\n",
      " [21.790000 58.200000 1017.210000 66.740000 446.940000]\n",
      " [16.640000 48.920000 1011.550000 78.760000 452.560000]\n",
      " ...\n",
      " [29.800000 69.340000 1009.360000 64.740000 437.650000]\n",
      " [16.370000 54.300000 1017.940000 63.630000 459.970000]\n",
      " [30.110000 62.040000 1010.690000 47.960000 444.420000]]\n",
      "(2392, 4)\n",
      "(5,)\n",
      "[455.368314 452.875662 450.387376 ... 452.098755 453.141955 456.187699]\n"
     ]
    }
   ],
   "source": [
    "run()"
   ]
  },
  {
   "cell_type": "code",
   "execution_count": null,
   "id": "420cd481",
   "metadata": {},
   "outputs": [],
   "source": []
  }
 ],
 "metadata": {
  "kernelspec": {
   "display_name": "Python 3 (ipykernel)",
   "language": "python",
   "name": "python3"
  },
  "language_info": {
   "codemirror_mode": {
    "name": "ipython",
    "version": 3
   },
   "file_extension": ".py",
   "mimetype": "text/x-python",
   "name": "python",
   "nbconvert_exporter": "python",
   "pygments_lexer": "ipython3",
   "version": "3.9.7"
  }
 },
 "nbformat": 4,
 "nbformat_minor": 5
}
