{
 "cells": [
  {
   "cell_type": "code",
   "execution_count": 54,
   "id": "3e40a51e",
   "metadata": {},
   "outputs": [
    {
     "data": {
      "text/plain": [
       "(506, 13)"
      ]
     },
     "execution_count": 54,
     "metadata": {},
     "output_type": "execute_result"
    }
   ],
   "source": [
    "import numpy as np\n",
    "from sklearn import datasets\n",
    "boston = datasets.load_boston()\n",
    "x = boston.data\n",
    "y = boston.target\n",
    "x.shape"
   ]
  },
  {
   "cell_type": "code",
   "execution_count": 55,
   "id": "5d517859",
   "metadata": {},
   "outputs": [],
   "source": [
    "import pandas as pd\n",
    "df = pd.DataFrame(x)\n",
    "df2 = pd.DataFrame(x)\n",
    "df.columns = boston.feature_names\n",
    "df2.columns = boston.feature_names"
   ]
  },
  {
   "cell_type": "code",
   "execution_count": 74,
   "id": "3f9242a4",
   "metadata": {},
   "outputs": [],
   "source": [
    "df2[\"crim_crim\"] = df2.CRIM **2\n",
    "df2[\"zn_zn\"] = df2[\"ZN\"]**2\n",
    "# df2[\"indus_indus\"] = df2[\"INDUS\"]**2\n",
    "df2.shape\n",
    "x2 = df2.values"
   ]
  },
  {
   "cell_type": "code",
   "execution_count": 75,
   "id": "e143f2e4",
   "metadata": {},
   "outputs": [
    {
     "data": {
      "text/plain": [
       "(506, 16)"
      ]
     },
     "execution_count": 75,
     "metadata": {},
     "output_type": "execute_result"
    }
   ],
   "source": [
    "x2.shape"
   ]
  },
  {
   "cell_type": "code",
   "execution_count": 76,
   "id": "16f6445e",
   "metadata": {},
   "outputs": [],
   "source": [
    "from sklearn import model_selection\n",
    "X_train, X_test, Y_train, Y_test = model_selection.train_test_split(x,y, random_state =0)\n",
    "X2_train, X2_test, Y2_train, Y2_test = model_selection.train_test_split(x2,y, random_state =0)"
   ]
  },
  {
   "cell_type": "code",
   "execution_count": 77,
   "id": "55bf2406",
   "metadata": {},
   "outputs": [
    {
     "data": {
      "text/plain": [
       "LinearRegression()"
      ]
     },
     "execution_count": 77,
     "metadata": {},
     "output_type": "execute_result"
    }
   ],
   "source": [
    "from sklearn.linear_model import LinearRegression\n",
    "alg1 = LinearRegression()\n",
    "alg1.fit(X_train, Y_train)\n",
    "alg2 = LinearRegression()\n",
    "alg2.fit(X2_train, Y2_train)"
   ]
  },
  {
   "cell_type": "code",
   "execution_count": 78,
   "id": "01959394",
   "metadata": {},
   "outputs": [],
   "source": [
    "Y_pred = alg1.predict(X_test)"
   ]
  },
  {
   "cell_type": "code",
   "execution_count": 79,
   "id": "984cad17",
   "metadata": {},
   "outputs": [],
   "source": [
    "Y2_pred = alg2.predict(X2_test)"
   ]
  },
  {
   "cell_type": "code",
   "execution_count": 80,
   "id": "c3f7c260",
   "metadata": {},
   "outputs": [
    {
     "data": {
      "text/plain": [
       "0.6354638433202129"
      ]
     },
     "execution_count": 80,
     "metadata": {},
     "output_type": "execute_result"
    }
   ],
   "source": [
    "alg1.score(X_test,Y_test)"
   ]
  },
  {
   "cell_type": "code",
   "execution_count": 81,
   "id": "2b734d8f",
   "metadata": {},
   "outputs": [
    {
     "data": {
      "text/plain": [
       "0.7697699488741149"
      ]
     },
     "execution_count": 81,
     "metadata": {},
     "output_type": "execute_result"
    }
   ],
   "source": [
    "alg1.score(X_train,Y_train)"
   ]
  },
  {
   "cell_type": "code",
   "execution_count": 82,
   "id": "997cc126",
   "metadata": {},
   "outputs": [
    {
     "data": {
      "text/plain": [
       "0.7833575764158403"
      ]
     },
     "execution_count": 82,
     "metadata": {},
     "output_type": "execute_result"
    }
   ],
   "source": [
    "alg2.score(X2_train,Y2_train)"
   ]
  },
  {
   "cell_type": "code",
   "execution_count": 83,
   "id": "4cefa1ea",
   "metadata": {},
   "outputs": [
    {
     "data": {
      "text/plain": [
       "0.6253865505046046"
      ]
     },
     "execution_count": 83,
     "metadata": {},
     "output_type": "execute_result"
    }
   ],
   "source": [
    "alg2.score(X2_test,Y2_test)"
   ]
  },
  {
   "cell_type": "code",
   "execution_count": 84,
   "id": "69a68c66",
   "metadata": {},
   "outputs": [
    {
     "data": {
      "text/plain": [
       "array([-1.17735289e-01,  4.40174969e-02, -5.76814314e-03,  2.39341594e+00,\n",
       "       -1.55894211e+01,  3.76896770e+00, -7.03517828e-03, -1.43495641e+00,\n",
       "        2.40081086e-01, -1.12972810e-02, -9.85546732e-01,  8.44443453e-03,\n",
       "       -4.99116797e-01])"
      ]
     },
     "execution_count": 84,
     "metadata": {},
     "output_type": "execute_result"
    }
   ],
   "source": [
    "alg1.coef_"
   ]
  },
  {
   "cell_type": "code",
   "execution_count": 85,
   "id": "2c8f32c8",
   "metadata": {},
   "outputs": [
    {
     "data": {
      "text/plain": [
       "array([-1.03609050e-01, -7.03939559e-02, -7.82780274e-01,  3.04549154e+00,\n",
       "       -1.53450513e+01,  3.48059384e+00, -1.41086296e-02, -1.38168243e+00,\n",
       "        3.38244516e-01, -1.39969381e-02, -1.04597784e+00,  8.39214135e-03,\n",
       "       -5.07984825e-01, -1.85533394e-04,  1.09394206e-03,  2.84453997e-02])"
      ]
     },
     "execution_count": 85,
     "metadata": {},
     "output_type": "execute_result"
    }
   ],
   "source": [
    "alg2.coef_"
   ]
  },
  {
   "cell_type": "code",
   "execution_count": null,
   "id": "b0247894",
   "metadata": {},
   "outputs": [],
   "source": []
  }
 ],
 "metadata": {
  "kernelspec": {
   "display_name": "Python 3 (ipykernel)",
   "language": "python",
   "name": "python3"
  },
  "language_info": {
   "codemirror_mode": {
    "name": "ipython",
    "version": 3
   },
   "file_extension": ".py",
   "mimetype": "text/x-python",
   "name": "python",
   "nbconvert_exporter": "python",
   "pygments_lexer": "ipython3",
   "version": "3.9.7"
  }
 },
 "nbformat": 4,
 "nbformat_minor": 5
}
