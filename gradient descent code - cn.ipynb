{
 "cells": [
  {
   "cell_type": "code",
   "execution_count": 1,
   "id": "3c5301df",
   "metadata": {},
   "outputs": [],
   "source": [
    "import numpy as np\n",
    "import matplotlib.pyplot as plt\n",
    "data = np.loadtxt(\"data.csv\",delimiter=',')\n",
    "x = data[:,0]\n",
    "y = data[:,1]"
   ]
  },
  {
   "cell_type": "code",
   "execution_count": 10,
   "id": "ce95228c",
   "metadata": {},
   "outputs": [],
   "source": [
    "def step(data,L_R,m,c):\n",
    "    M = data.shape[0]\n",
    "    slope_m = 0\n",
    "    slope_c = 0\n",
    "    for i in range(M):\n",
    "        x = data[i][0]\n",
    "        y = data[i][1]\n",
    "        slope_m += -((x*(y-(m*x)-c))*2)/M\n",
    "        slope_c += -((y-(m*x)-c)*2)/M\n",
    "    new_m = m - L_R*slope_m\n",
    "    new_c = c - L_R*slope_c\n",
    "    return new_m,new_c"
   ]
  },
  {
   "cell_type": "code",
   "execution_count": 11,
   "id": "5a7d7d8d",
   "metadata": {},
   "outputs": [],
   "source": [
    "def gd(data,L_R,no_of_iterations):\n",
    "    m = 0\n",
    "    c = 0\n",
    "    iterations = no_of_iterations\n",
    "    while no_of_iterations>0:\n",
    "        m,c = step(data,L_R,m,c)\n",
    "        no_of_iterations -= 1\n",
    "    return m,c"
   ]
  },
  {
   "cell_type": "code",
   "execution_count": 12,
   "id": "ac42c025",
   "metadata": {},
   "outputs": [],
   "source": [
    "import matplotlib.pyplot as plt\n",
    "import numpy as np\n",
    "def run() :\n",
    "    data = np.loadtxt(\"data.csv\",delimiter=',')\n",
    "    x = data[:,0]\n",
    "    y = data[:,1]\n",
    "    L_R = 0.0001\n",
    "    no_of_iterations = 100000\n",
    "    m,c = gd(data,L_R,no_of_iterations)\n",
    "    ypred = m*x+c\n",
    "    print(ypred)\n",
    "    a = np.array((20,25,80,100))\n",
    "    b =a\n",
    "    plt.plot(a,b)\n",
    "    plt.scatter(y,ypred)\n",
    "#     plt.axis([30,120,30,120])\n",
    "    plt.show()"
   ]
  },
  {
   "cell_type": "code",
   "execution_count": 13,
   "id": "495b67f0",
   "metadata": {},
   "outputs": [
    {
     "name": "stdout",
     "output_type": "stream",
     "text": [
      "[ 49.62123456  78.83176363  90.14431905  70.5239425   87.7471787\n",
      "  81.22643897  77.13561427  59.11015068  71.40258731  77.60776601\n",
      "  67.65389436  80.12282681  65.9009651   85.45112684  83.43912522\n",
      "  72.59036892  66.63127756  88.42300844  67.93157764  58.43623321\n",
      "  96.64891981  95.56874463  70.53171678  62.287551    76.62382728\n",
      "  87.12960836  84.25270715  93.05526122  69.49366681  74.82518448\n",
      "  77.15264462  53.90064906  63.48927509  85.44563971  84.52415108\n",
      "  67.68293196  90.65506584  50.44694924  55.11262696  56.84317095\n",
      "  66.44758102  64.72027518  74.15005897  65.49132747  92.19242129\n",
      "  49.85394554  60.32094595  79.03875333  51.52240367  94.57910249\n",
      "  57.46323078  66.37349489  60.92491021  62.49001799  75.56768093\n",
      "  81.13696587  62.01126029  91.49053615  72.93657531  61.62730277\n",
      "  61.73804868  74.30814731  77.36825689  74.23708536  51.21596931\n",
      "  59.47078549  82.605966    84.32536709  88.38376347  54.05457731\n",
      "  48.34497257  79.15860647  69.41634135  64.4264698  102.45105433\n",
      "  66.35997857  84.5242707   55.80234426  82.15274722  58.62881346\n",
      "  83.68203837  83.63692799  52.17700131  86.68137981  84.92030269\n",
      "  80.02607544  75.5677999   74.44278705  65.96754345  57.30361779\n",
      "  50.23287025  79.20147385 100.24489897  68.78637972  99.62176196\n",
      "  74.09007107  72.98666069  74.1031957   71.46515209  39.32733055]\n"
     ]
    },
    {
     "data": {
      "image/png": "[encoded data removed]",
      "text/plain": [
       "<Figure size 432x288 with 1 Axes>"
      ]
     },
     "metadata": {
      "needs_background": "light"
     },
     "output_type": "display_data"
    }
   ],
   "source": [
    "run()"
   ]
  },
  {
   "cell_type": "code",
   "execution_count": null,
   "id": "0963db7f",
   "metadata": {},
   "outputs": [],
   "source": []
  }
 ],
 "metadata": {
  "kernelspec": {
   "display_name": "Python 3 (ipykernel)",
   "language": "python",
   "name": "python3"
  },
  "language_info": {
   "codemirror_mode": {
    "name": "ipython",
    "version": 3
   },
   "file_extension": ".py",
   "mimetype": "text/x-python",
   "name": "python",
   "nbconvert_exporter": "python",
   "pygments_lexer": "ipython3",
   "version": "3.9.7"
  }
 },
 "nbformat": 4,
 "nbformat_minor": 5
}
