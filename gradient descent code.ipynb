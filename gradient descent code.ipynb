{
 "cells": [
  {
   "cell_type": "code",
   "execution_count": 3,
   "id": "c69de51d",
   "metadata": {},
   "outputs": [],
   "source": [
    "import numpy as np\n",
    "import matplotlib.pyplot as plt\n",
    "data = np.loadtxt(\"data.csv\",delimiter=',')\n",
    "x = data[:,0]\n",
    "y = data[:,1]"
   ]
  },
  {
   "cell_type": "code",
   "execution_count": 79,
   "id": "9a229c51",
   "metadata": {},
   "outputs": [],
   "source": [
    "def gd(data,L_R,no_of_iterations):\n",
    "    x = data[:,0]\n",
    "    y = data[:,1]\n",
    "    m = 0\n",
    "    c = 0\n",
    "    iterations = no_of_iterations\n",
    "    while no_of_iterations>0:\n",
    "        current_gd = ((y-(m*x)+c)**2).sum()\n",
    "        slope_m = -(x*(y-(m*x)-c)).sum()*2\n",
    "        slope_c = -(y-(m*x)-c).sum()*2\n",
    "        m = m - L_R*slope_m\n",
    "        c = c - L_R*slope_c\n",
    "        if ((y-(m*x+c))**2).sum() > current_gd :\n",
    "            L_R = L_R/2\n",
    "        no_of_iterations -= 1\n",
    "    return m,c"
   ]
  },
  {
   "cell_type": "code",
   "execution_count": 86,
   "id": "994204d0",
   "metadata": {},
   "outputs": [],
   "source": [
    "import matplotlib.pyplot as plt\n",
    "import numpy as np\n",
    "def run() :\n",
    "    data = np.loadtxt(\"data.csv\",delimiter=',')\n",
    "    x = data[:,0]\n",
    "    y = data[:,1]\n",
    "    L_R = 0.0001\n",
    "    no_of_iterations = 100000\n",
    "    m,c = gd(data,L_R,no_of_iterations)\n",
    "    ypred = m*x+c\n",
    "    print(ypred)\n",
    "    a = np.array((20,25,80,100))\n",
    "    b =a\n",
    "    plt.plot(a,b)\n",
    "    plt.scatter(y,ypred)\n",
    "#     plt.axis([30,120,30,120])\n",
    "    plt.show()"
   ]
  },
  {
   "cell_type": "code",
   "execution_count": 87,
   "id": "b77f5caf",
   "metadata": {},
   "outputs": [
    {
     "name": "stdout",
     "output_type": "stream",
     "text": [
      "[ 50.70162088  78.68193678  89.51805938  70.72400288  87.22187555\n",
      "  80.9757594   77.05722143  59.79090749  71.56564321  77.50948831\n",
      "  67.97482797  79.91862632  66.29572403  85.02252284  83.09525749\n",
      "  72.70340092  66.99527908  87.86924246  68.2408165   59.14537232\n",
      "  95.74871626  94.7140331   70.73144974  62.83449031  76.56698856\n",
      "  86.63031444  83.87457508  92.30640605  69.73711766  74.84409631\n",
      "  77.07353454  54.80080612  63.98560331  85.01726681  84.13458704\n",
      "  68.00264263  90.00729586  51.49256025  55.96174108  57.61940252\n",
      "  66.81931899  65.16475933  74.19740399  65.90333845  91.47990497\n",
      "  50.92453114  60.95070963  78.88020902  52.52272149  93.76607014\n",
      "  58.21334828  66.74835304  61.52923768  63.02843033  75.55532223\n",
      "  80.8900545   62.5698357   90.80758     73.03502668  62.20204871\n",
      "  62.3081305   74.34883438  77.28006621  74.28076523  52.22919274\n",
      "  60.13635402  82.2971871   83.94417492  87.8316503   54.94825161\n",
      "  49.47910918  78.9950145   69.66304879  64.88332769 101.30649156\n",
      "  66.73540596  84.13470162  56.62241066  81.86305581  59.32984197\n",
      "  83.32794025  83.28472971  53.14975049  86.20096321  84.51405457\n",
      "  79.82594967  75.55543619  74.47780371  66.35949841  58.06045745\n",
      "  51.28749728  79.0360765   99.19324932  69.05961825  98.59635598\n",
      "  74.13994251  73.0830027   74.15251439  71.62557304  40.84124878]\n"
     ]
    },
    {
     "data": {
      "image/png": "[encoded data removed]",
      "text/plain": [
       "<Figure size 432x288 with 1 Axes>"
      ]
     },
     "metadata": {
      "needs_background": "light"
     },
     "output_type": "display_data"
    }
   ],
   "source": [
    "run()"
   ]
  },
  {
   "cell_type": "code",
   "execution_count": null,
   "id": "171c4785",
   "metadata": {},
   "outputs": [],
   "source": []
  }
 ],
 "metadata": {
  "kernelspec": {
   "display_name": "Python 3 (ipykernel)",
   "language": "python",
   "name": "python3"
  },
  "language_info": {
   "codemirror_mode": {
    "name": "ipython",
    "version": 3
   },
   "file_extension": ".py",
   "mimetype": "text/x-python",
   "name": "python",
   "nbconvert_exporter": "python",
   "pygments_lexer": "ipython3",
   "version": "3.9.7"
  }
 },
 "nbformat": 4,
 "nbformat_minor": 5
}
