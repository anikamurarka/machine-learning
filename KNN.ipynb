{
 "cells": [
  {
   "cell_type": "code",
   "execution_count": 39,
   "id": "abf2473d",
   "metadata": {},
   "outputs": [],
   "source": [
    "from sklearn import datasets\n",
    "from sklearn import model_selection\n",
    "from sklearn.model_selection import cross_val_score\n",
    "from sklearn.neighbors import KNeighborsClassifier\n",
    "from sklearn.metrics import accuracy_score\n",
    "from collections import Counter\n",
    "breast_cancer = datasets.load_breast_cancer()\n",
    "X = breast_cancer.data\n",
    "Y = breast_cancer.target\n",
    "X_train,X_test,Y_train,Y_test = model_selection.train_test_split(X,Y, test_size = 0.2, random_state=0)"
   ]
  },
  {
   "cell_type": "code",
   "execution_count": 40,
   "id": "59a7da4d",
   "metadata": {},
   "outputs": [],
   "source": [
    "clf = KNeighborsClassifier()\n",
    "clf.fit(X_train,Y_train)\n",
    "y_pred = clf.predict(X_test)"
   ]
  },
  {
   "cell_type": "code",
   "execution_count": 41,
   "id": "490c8eec",
   "metadata": {},
   "outputs": [
    {
     "data": {
      "text/plain": [
       "0.9385964912280702"
      ]
     },
     "execution_count": 41,
     "metadata": {},
     "output_type": "execute_result"
    }
   ],
   "source": [
    "clf.score(X_test,Y_test)"
   ]
  },
  {
   "cell_type": "code",
   "execution_count": 42,
   "id": "80712793",
   "metadata": {},
   "outputs": [
    {
     "name": "stdout",
     "output_type": "stream",
     "text": [
      "1 0.9208791208791209\n",
      "3 0.9318681318681319\n",
      "5 0.9208791208791209\n",
      "7 0.9274725274725275\n",
      "9 0.9362637362637363\n",
      "11 0.9318681318681319\n",
      "13 0.9362637362637363\n",
      "15 0.9230769230769231\n",
      "17 0.9230769230769231\n",
      "19 0.9208791208791209\n",
      "21 0.9186813186813186\n",
      "23 0.9142857142857143\n",
      "25 0.9142857142857143\n"
     ]
    }
   ],
   "source": [
    "for i in range(1,26,2):\n",
    "    clf = KNeighborsClassifier(n_neighbors = i)\n",
    "    score = cross_val_score(clf,X_train,Y_train) \n",
    "    print(i, score.mean())"
   ]
  },
  {
   "cell_type": "code",
   "execution_count": 52,
   "id": "5e87b436",
   "metadata": {},
   "outputs": [],
   "source": [
    "def train(x_train,y_train):\n",
    "    return\n",
    "def predict_one(x_train,y_train,x_test,k):\n",
    "    distances = []\n",
    "    for i in range(len(x_test)):\n",
    "        distance = ((x_train[i,:] - x_test)**2).sum()\n",
    "        distances.append([distance,i])\n",
    "    distances = sorted(distances)\n",
    "    target = []\n",
    "    for i in range(k):\n",
    "        target.append(y_train[distances[i][1]])\n",
    "    return Counter(target).most_common(1)[0][0]\n",
    "def predict(x_train,y_train,x_test,k):\n",
    "    predictions = []\n",
    "    for x_test_point in x_test:\n",
    "        predictions.append(predict_one(x_train,y_train,x_test_point,k))\n",
    "    return predictions"
   ]
  },
  {
   "cell_type": "code",
   "execution_count": 54,
   "id": "19dd7d34",
   "metadata": {},
   "outputs": [
    {
     "data": {
      "text/plain": [
       "0.7807017543859649"
      ]
     },
     "execution_count": 54,
     "metadata": {},
     "output_type": "execute_result"
    }
   ],
   "source": [
    "y_pred = predict(X_train,Y_train,X_test,9)\n",
    "accuracy_score(Y_test,y_pred)"
   ]
  },
  {
   "cell_type": "markdown",
   "id": "b20c5864",
   "metadata": {},
   "source": []
  },
  {
   "cell_type": "code",
   "execution_count": null,
   "id": "9a01bcb6",
   "metadata": {},
   "outputs": [],
   "source": []
  }
 ],
 "metadata": {
  "kernelspec": {
   "display_name": "Python 3 (ipykernel)",
   "language": "python",
   "name": "python3"
  },
  "language_info": {
   "codemirror_mode": {
    "name": "ipython",
    "version": 3
   },
   "file_extension": ".py",
   "mimetype": "text/x-python",
   "name": "python",
   "nbconvert_exporter": "python",
   "pygments_lexer": "ipython3",
   "version": "3.9.7"
  }
 },
 "nbformat": 4,
 "nbformat_minor": 5
}
